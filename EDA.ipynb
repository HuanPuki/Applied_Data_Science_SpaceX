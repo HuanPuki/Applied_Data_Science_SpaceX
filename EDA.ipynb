{
 "cells": [
  {
   "cell_type": "markdown",
   "metadata": {},
   "source": [
    "EDA and Determine Training Labels"
   ]
  },
  {
   "cell_type": "code",
   "execution_count": null,
   "metadata": {},
   "outputs": [],
   "source": [
    "#import necessary libraries\n",
    "import pandas as pd\n",
    "import numpy as np"
   ]
  },
  {
   "cell_type": "code",
   "execution_count": null,
   "metadata": {},
   "outputs": [],
   "source": [
    "#load dataset\n",
    "df = pd.read_csv('dataset_part_1.csv')\n",
    "df.head()\n",
    "\n",
    "#identify and calculate the percentage of the missing values\n",
    "print(df.isnull().sum()/len(df)*100)\n",
    "\n",
    "#identify types of columns\n",
    "df.dtypes"
   ]
  },
  {
   "cell_type": "code",
   "execution_count": null,
   "metadata": {},
   "outputs": [],
   "source": [
    "#calculate the number of launches on each site\n",
    "df['LaunchSite'].value_counts()"
   ]
  },
  {
   "cell_type": "code",
   "execution_count": null,
   "metadata": {},
   "outputs": [],
   "source": [
    "#calculate the number and occurence of each orbit\n",
    "df['Orbit'].value_counts()"
   ]
  },
  {
   "cell_type": "code",
   "execution_count": null,
   "metadata": {},
   "outputs": [],
   "source": [
    "#calculate the number and occurence of mission outcome of the orbits\n",
    "landing_outcomes = df['Outcome'].value_counts()\n",
    "landing_outcomes\n",
    "\n",
    "for i,outcome in enumerate(landing_outcomes.keys()):\n",
    "    print(i,outcome)\n",
    "\n",
    "#set of bad outcomes\n",
    "bad_outcomes = set(landing_outcomes.keys()[[1,3,5,7]])\n",
    "bad_outcomes\n",
    "\n",
    "#create a landing outcome label from outcome column\n",
    "#landing_class = 0 id bad_outcomes\n",
    "#landing_class = 1 otherwise\n",
    "landing_class = []\n",
    "for i in df['Outcome']:\n",
    "    if i in bad_outcomes:\n",
    "        landing_class.append(0)\n",
    "    else:\n",
    "        landing_class.append(1)\n",
    "print(landing_class)\n",
    "\n",
    "#assign landing_class to dataframe\n",
    "df['Class'] = landing_class\n",
    "df[['Class']].head()"
   ]
  },
  {
   "cell_type": "code",
   "execution_count": null,
   "metadata": {},
   "outputs": [],
   "source": [
    "#export the new dataset\n",
    "df.to_csv('dataset_part_2.csv',index=False)"
   ]
  },
  {
   "cell_type": "code",
   "execution_count": null,
   "metadata": {},
   "outputs": [],
   "source": []
  }
 ],
 "metadata": {
  "kernelspec": {
   "display_name": "Python 3",
   "language": "python",
   "name": "python3"
  },
  "language_info": {
   "codemirror_mode": {
    "name": "ipython",
    "version": 3
   },
   "file_extension": ".py",
   "mimetype": "text/x-python",
   "name": "python",
   "nbconvert_exporter": "python",
   "pygments_lexer": "ipython3",
   "version": "3.10.7"
  }
 },
 "nbformat": 4,
 "nbformat_minor": 2
}
